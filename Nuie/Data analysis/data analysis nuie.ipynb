{
 "cells": [
  {
   "cell_type": "code",
   "execution_count": 49,
   "metadata": {},
   "outputs": [],
   "source": [
    "import pandas as pd\n",
    "import re\n",
    "import tabula\n",
    "import librosa\n",
    "import matplotlib.pyplot as plt\n",
    "import librosa.display"
   ]
  },
  {
   "cell_type": "code",
   "execution_count": 51,
   "metadata": {},
   "outputs": [],
   "source": [
    "from librosa.display import AdaptiveWaveplot"
   ]
  },
  {
   "cell_type": "code",
   "execution_count": 3,
   "metadata": {},
   "outputs": [],
   "source": [
    "df = pd.read_csv(r\"C:\\Users\\rishi\\OneDrive - Monash University\\Documents\\Monash\\Sonorus\\Sonorus - nuie data\\Data\\niue outcomes.csv\")"
   ]
  },
  {
   "cell_type": "code",
   "execution_count": 4,
   "metadata": {},
   "outputs": [
    {
     "data": {
      "text/html": [
       "<div>\n",
       "<style scoped>\n",
       "    .dataframe tbody tr th:only-of-type {\n",
       "        vertical-align: middle;\n",
       "    }\n",
       "\n",
       "    .dataframe tbody tr th {\n",
       "        vertical-align: top;\n",
       "    }\n",
       "\n",
       "    .dataframe thead th {\n",
       "        text-align: right;\n",
       "    }\n",
       "</style>\n",
       "<table border=\"1\" class=\"dataframe\">\n",
       "  <thead>\n",
       "    <tr style=\"text-align: right;\">\n",
       "      <th></th>\n",
       "      <th>Record_ID</th>\n",
       "      <th>File_name</th>\n",
       "      <th>Outcome</th>\n",
       "    </tr>\n",
       "  </thead>\n",
       "  <tbody>\n",
       "    <tr>\n",
       "      <th>0</th>\n",
       "      <td>1</td>\n",
       "      <td>065150_M.WAV</td>\n",
       "      <td>0</td>\n",
       "    </tr>\n",
       "    <tr>\n",
       "      <th>1</th>\n",
       "      <td>1</td>\n",
       "      <td>064736_A.WAV</td>\n",
       "      <td>0</td>\n",
       "    </tr>\n",
       "    <tr>\n",
       "      <th>2</th>\n",
       "      <td>1</td>\n",
       "      <td>064926_P.WAV</td>\n",
       "      <td>0</td>\n",
       "    </tr>\n",
       "    <tr>\n",
       "      <th>3</th>\n",
       "      <td>1</td>\n",
       "      <td>065025_T.WAV</td>\n",
       "      <td>0</td>\n",
       "    </tr>\n",
       "    <tr>\n",
       "      <th>4</th>\n",
       "      <td>2</td>\n",
       "      <td>070521_M.WAV</td>\n",
       "      <td>0</td>\n",
       "    </tr>\n",
       "  </tbody>\n",
       "</table>\n",
       "</div>"
      ],
      "text/plain": [
       "  Record_ID     File_name  Outcome\n",
       "0         1  065150_M.WAV        0\n",
       "1         1  064736_A.WAV        0\n",
       "2         1  064926_P.WAV        0\n",
       "3         1  065025_T.WAV        0\n",
       "4         2  070521_M.WAV        0"
      ]
     },
     "execution_count": 4,
     "metadata": {},
     "output_type": "execute_result"
    }
   ],
   "source": [
    "df.head()"
   ]
  },
  {
   "cell_type": "code",
   "execution_count": 7,
   "metadata": {},
   "outputs": [
    {
     "name": "stderr",
     "output_type": "stream",
     "text": [
      "Error importing jpype dependencies. Fallback to subprocess.\n",
      "No module named 'jpype'\n",
      "'pages' argument isn't specified.Will extract only from page 1 by default.\n",
      "c:\\Users\\rishi\\AppData\\Local\\Programs\\Python\\Python312\\Lib\\site-packages\\tabula\\io.py:1045: FutureWarning: errors='ignore' is deprecated and will raise in a future version. Use to_numeric without passing `errors` and catch exceptions explicitly instead\n",
      "  df[c] = pd.to_numeric(df[c], errors=\"ignore\")\n",
      "c:\\Users\\rishi\\AppData\\Local\\Programs\\Python\\Python312\\Lib\\site-packages\\tabula\\io.py:1045: FutureWarning: errors='ignore' is deprecated and will raise in a future version. Use to_numeric without passing `errors` and catch exceptions explicitly instead\n",
      "  df[c] = pd.to_numeric(df[c], errors=\"ignore\")\n"
     ]
    }
   ],
   "source": [
    "table = tabula.read_pdf(r\"C:\\Users\\rishi\\OneDrive - Monash University\\Documents\\Monash\\Sonorus\\Sonorus - nuie data\\Data\\report_abnormal_niue-20181124_013717.pdf\")"
   ]
  },
  {
   "cell_type": "code",
   "execution_count": 8,
   "metadata": {},
   "outputs": [
    {
     "data": {
      "text/html": [
       "<div>\n",
       "<style scoped>\n",
       "    .dataframe tbody tr th:only-of-type {\n",
       "        vertical-align: middle;\n",
       "    }\n",
       "\n",
       "    .dataframe tbody tr th {\n",
       "        vertical-align: top;\n",
       "    }\n",
       "\n",
       "    .dataframe thead th {\n",
       "        text-align: right;\n",
       "    }\n",
       "</style>\n",
       "<table border=\"1\" class=\"dataframe\">\n",
       "  <thead>\n",
       "    <tr style=\"text-align: right;\">\n",
       "      <th></th>\n",
       "      <th>File Name</th>\n",
       "      <th>Accuracy (%)</th>\n",
       "      <th>Prediction</th>\n",
       "      <th>Condition</th>\n",
       "      <th>Indication</th>\n",
       "    </tr>\n",
       "  </thead>\n",
       "  <tbody>\n",
       "    <tr>\n",
       "      <th>0</th>\n",
       "      <td>niue/118/081711_T.WAV</td>\n",
       "      <td>0.00</td>\n",
       "      <td>Diastolic murmur</td>\n",
       "      <td>Normal</td>\n",
       "      <td>Normal</td>\n",
       "    </tr>\n",
       "    <tr>\n",
       "      <th>1</th>\n",
       "      <td>niue/36/141436_T.WAV</td>\n",
       "      <td>0.00</td>\n",
       "      <td>Normal</td>\n",
       "      <td>Abnormal-Mild</td>\n",
       "      <td>mmr, mildly thickend mvl, RHD 2012, known &amp; Im...</td>\n",
       "    </tr>\n",
       "    <tr>\n",
       "      <th>2</th>\n",
       "      <td>niue/61/083942_T.WAV</td>\n",
       "      <td>0.00</td>\n",
       "      <td>Mitral Regurgitation</td>\n",
       "      <td>Normal</td>\n",
       "      <td>Normal</td>\n",
       "    </tr>\n",
       "    <tr>\n",
       "      <th>3</th>\n",
       "      <td>niue/41/064021_T.WAV</td>\n",
       "      <td>0.00</td>\n",
       "      <td>Mitral Regurgitation</td>\n",
       "      <td>Normal</td>\n",
       "      <td>Normal</td>\n",
       "    </tr>\n",
       "    <tr>\n",
       "      <th>4</th>\n",
       "      <td>niue/178/083304_T.WAV</td>\n",
       "      <td>1.79</td>\n",
       "      <td>Mitral Regurgitation</td>\n",
       "      <td>Normal</td>\n",
       "      <td>Normal</td>\n",
       "    </tr>\n",
       "    <tr>\n",
       "      <th>...</th>\n",
       "      <td>...</td>\n",
       "      <td>...</td>\n",
       "      <td>...</td>\n",
       "      <td>...</td>\n",
       "      <td>...</td>\n",
       "    </tr>\n",
       "    <tr>\n",
       "      <th>855</th>\n",
       "      <td>niue/204a/113838_T.WAV</td>\n",
       "      <td>100.00</td>\n",
       "      <td>Mitral Regurgitation</td>\n",
       "      <td>Abnormal-Moderate</td>\n",
       "      <td>Known PS, modPR, mildPS, dil MPA</td>\n",
       "    </tr>\n",
       "    <tr>\n",
       "      <th>856</th>\n",
       "      <td>niue/99/144421_P.WAV</td>\n",
       "      <td>100.00</td>\n",
       "      <td>Mitral Regurgitation</td>\n",
       "      <td>Abnormal-Severe</td>\n",
       "      <td>RHD 2016, sevmr, modar, thickened mvl, avl, Lvdil</td>\n",
       "    </tr>\n",
       "    <tr>\n",
       "      <th>857</th>\n",
       "      <td>niue/204b/145003_P.WAV</td>\n",
       "      <td>100.00</td>\n",
       "      <td>Mitral Regurgitation</td>\n",
       "      <td>Abnormal-Moderate</td>\n",
       "      <td>Known PS, modPR, mildPS, dil MPA</td>\n",
       "    </tr>\n",
       "    <tr>\n",
       "      <th>858</th>\n",
       "      <td>niue/204b/145055_T.WAV</td>\n",
       "      <td>100.00</td>\n",
       "      <td>Mitral Regurgitation</td>\n",
       "      <td>Abnormal-Moderate</td>\n",
       "      <td>Known PS, modPR, mildPS, dil MPA</td>\n",
       "    </tr>\n",
       "    <tr>\n",
       "      <th>859</th>\n",
       "      <td>niue/204a/113747_P.WAV</td>\n",
       "      <td>100.00</td>\n",
       "      <td>Mitral Regurgitation</td>\n",
       "      <td>Abnormal-Moderate</td>\n",
       "      <td>Known PS, modPR, mildPS, dil MPA</td>\n",
       "    </tr>\n",
       "  </tbody>\n",
       "</table>\n",
       "<p>860 rows × 5 columns</p>\n",
       "</div>"
      ],
      "text/plain": [
       "                  File Name  Accuracy (%)            Prediction  \\\n",
       "0     niue/118/081711_T.WAV          0.00      Diastolic murmur   \n",
       "1      niue/36/141436_T.WAV          0.00                Normal   \n",
       "2      niue/61/083942_T.WAV          0.00  Mitral Regurgitation   \n",
       "3      niue/41/064021_T.WAV          0.00  Mitral Regurgitation   \n",
       "4     niue/178/083304_T.WAV          1.79  Mitral Regurgitation   \n",
       "..                      ...           ...                   ...   \n",
       "855  niue/204a/113838_T.WAV        100.00  Mitral Regurgitation   \n",
       "856    niue/99/144421_P.WAV        100.00  Mitral Regurgitation   \n",
       "857  niue/204b/145003_P.WAV        100.00  Mitral Regurgitation   \n",
       "858  niue/204b/145055_T.WAV        100.00  Mitral Regurgitation   \n",
       "859  niue/204a/113747_P.WAV        100.00  Mitral Regurgitation   \n",
       "\n",
       "             Condition                                         Indication  \n",
       "0               Normal                                             Normal  \n",
       "1        Abnormal-Mild  mmr, mildly thickend mvl, RHD 2012, known & Im...  \n",
       "2               Normal                                             Normal  \n",
       "3               Normal                                             Normal  \n",
       "4               Normal                                             Normal  \n",
       "..                 ...                                                ...  \n",
       "855  Abnormal-Moderate                   Known PS, modPR, mildPS, dil MPA  \n",
       "856    Abnormal-Severe  RHD 2016, sevmr, modar, thickened mvl, avl, Lvdil  \n",
       "857  Abnormal-Moderate                   Known PS, modPR, mildPS, dil MPA  \n",
       "858  Abnormal-Moderate                   Known PS, modPR, mildPS, dil MPA  \n",
       "859  Abnormal-Moderate                   Known PS, modPR, mildPS, dil MPA  \n",
       "\n",
       "[860 rows x 5 columns]"
      ]
     },
     "execution_count": 8,
     "metadata": {},
     "output_type": "execute_result"
    }
   ],
   "source": [
    "table[6]"
   ]
  },
  {
   "cell_type": "code",
   "execution_count": 10,
   "metadata": {},
   "outputs": [
    {
     "data": {
      "text/plain": [
       "array(['Diastolic murmur', 'Normal', 'Mitral Regurgitation',\n",
       "       'Aortic Stenosis'], dtype=object)"
      ]
     },
     "execution_count": 10,
     "metadata": {},
     "output_type": "execute_result"
    }
   ],
   "source": [
    "table[6][\"Prediction\"].unique()"
   ]
  },
  {
   "cell_type": "code",
   "execution_count": 72,
   "metadata": {},
   "outputs": [
    {
     "data": {
      "text/plain": [
       "Condition\n",
       "Normal               726\n",
       "Abnormal-Mild        115\n",
       "Abnormal-Moderate     14\n",
       "Abnormal-Severe        5\n",
       "Name: count, dtype: int64"
      ]
     },
     "execution_count": 72,
     "metadata": {},
     "output_type": "execute_result"
    }
   ],
   "source": [
    "table[6][\"Condition\"].value_counts()"
   ]
  },
  {
   "cell_type": "code",
   "execution_count": 36,
   "metadata": {},
   "outputs": [
    {
     "data": {
      "text/plain": [
       "Outcome\n",
       "0    726\n",
       "1    134\n",
       "Name: count, dtype: int64"
      ]
     },
     "execution_count": 36,
     "metadata": {},
     "output_type": "execute_result"
    }
   ],
   "source": [
    "df[\"Outcome\"].value_counts()"
   ]
  },
  {
   "cell_type": "code",
   "execution_count": 30,
   "metadata": {},
   "outputs": [
    {
     "data": {
      "text/plain": [
       "Counter({'M': 223, 'P': 213, 'T': 212, 'A': 212})"
      ]
     },
     "execution_count": 30,
     "metadata": {},
     "output_type": "execute_result"
    }
   ],
   "source": [
    "loc = []\n",
    "for i in range(860):\n",
    "    loc.append(re.findall(r\"_([A-Z])\", table[6].loc[i, 'File Name'])[0])\n",
    "from collections import Counter\n",
    "Counter(loc)"
   ]
  },
  {
   "cell_type": "code",
   "execution_count": 70,
   "metadata": {},
   "outputs": [],
   "source": [
    "def waveplot_function(wav_path):\n",
    "    figure = plt.figure(figsize=(14,6))\n",
    "    \n",
    "    audio_type,sample_rate = librosa.load(wav_path)\n",
    "    print(\"sample rate\", sample_rate)\n",
    "    print(len(wav_path))\n",
    "    print(\"duration\", len(wav_path)/sample_rate)\n",
    "    plt.figure(figsize=(6, 3))\n",
    "    librosa.display.waveshow(y = audio_type,sr=sample_rate, color = \"Black\")\n",
    "    plt.grid(True)\n",
    "    plt.show()\n",
    "\n",
    "def playing_function(wav_path):\n",
    "    \n",
    "    audio_type,sample_rate = librosa.load(wav_path)\n",
    "    return Audio(audio_type,rate=sample_rate)"
   ]
  },
  {
   "cell_type": "code",
   "execution_count": 71,
   "metadata": {},
   "outputs": [
    {
     "name": "stdout",
     "output_type": "stream",
     "text": [
      "sample rate 22050\n",
      "141\n",
      "duration 0.006394557823129252\n"
     ]
    },
    {
     "data": {
      "text/plain": [
       "<Figure size 1400x600 with 0 Axes>"
      ]
     },
     "metadata": {},
     "output_type": "display_data"
    },
    {
     "data": {
      "image/png": "[encoded data removed]",
      "text/plain": [
       "<Figure size 600x300 with 1 Axes>"
      ]
     },
     "metadata": {},
     "output_type": "display_data"
    }
   ],
   "source": [
    "waveplot_function(r\"C:\\Users\\rishi\\OneDrive - Monash University\\Documents\\Monash\\Sonorus\\Sonorus - nuie data\\Data\\Recor-20240305T001003Z-001\\Recor\\1\\064736_A.WAV\")"
   ]
  },
  {
   "cell_type": "code",
   "execution_count": 61,
   "metadata": {},
   "outputs": [
    {
     "data": {
      "image/png": "[encoded data removed]",
      "text/plain": [
       "<Figure size 600x300 with 1 Axes>"
      ]
     },
     "metadata": {},
     "output_type": "display_data"
    },
    {
     "name": "stdout",
     "output_type": "stream",
     "text": [
      "The frequency range of the audio file is from 0.00 Hz to 0.00 Hz.\n"
     ]
    }
   ],
   "source": [
    "import numpy as np\n",
    "from scipy.io import wavfile\n",
    "import matplotlib.pyplot as plt\n",
    "\n",
    "# Load the audio file\n",
    "sample_rate, data = wavfile.read(r\"C:\\Users\\rishi\\OneDrive - Monash University\\Documents\\Monash\\Sonorus\\Sonorus - nuie data\\Data\\Recor-20240305T001003Z-001\\Recor\\1\\064736_A.WAV\")\n",
    "\n",
    "# If stereo, take only one channel\n",
    "if len(data.shape) > 1:\n",
    "    data = data[:, 0]\n",
    "\n",
    "# Perform the Fourier Transform\n",
    "n = len(data)\n",
    "d = 1.0 / sample_rate\n",
    "frequencies = np.fft.fftfreq(n, d)\n",
    "fft_values = np.fft.fft(data)\n",
    "\n",
    "# Get the magnitude of the FFT\n",
    "magnitude = np.abs(fft_values)\n",
    "\n",
    "# Plot the frequency spectrum\n",
    "plt.figure(figsize=(6, 3))\n",
    "plt.plot(frequencies[:n // 2], magnitude[:n // 2])\n",
    "plt.xlabel('Frequency (Hz)')\n",
    "plt.ylabel('Magnitude')\n",
    "plt.title('Frequency Spectrum')\n",
    "plt.grid(True)\n",
    "plt.show()\n",
    "\n",
    "# Determine the frequency range\n",
    "# Find the index of the maximum magnitude\n",
    "max_magnitude_index = np.argmax(magnitude)\n",
    "max_frequency = frequencies[max_magnitude_index]\n",
    "min_frequency = frequencies[np.where(magnitude > 0)[0][0]]\n",
    "\n",
    "print(f\"The frequency range of the audio file is from {min_frequency:.2f} Hz to {max_frequency:.2f} Hz.\")\n"
   ]
  },
  {
   "cell_type": "code",
   "execution_count": 57,
   "metadata": {},
   "outputs": [],
   "source": [
    "specs_nuie = np.load(r\"C:\\Users\\rishi\\OneDrive - Monash University\\Documents\\Monash\\Sonorus\\Sonorus - nuie data\\preprocessed data\\specs segmented.npy\")"
   ]
  },
  {
   "cell_type": "code",
   "execution_count": 60,
   "metadata": {},
   "outputs": [
    {
     "data": {
      "text/plain": [
       "<matplotlib.collections.QuadMesh at 0x2af804872f0>"
      ]
     },
     "execution_count": 60,
     "metadata": {},
     "output_type": "execute_result"
    },
    {
     "data": {
      "image/png": "[encoded data removed]",
      "text/plain": [
       "<Figure size 640x480 with 1 Axes>"
      ]
     },
     "metadata": {},
     "output_type": "display_data"
    }
   ],
   "source": [
    "librosa.display.specshow(librosa.power_to_db(specs_nuie[5], ref=np.max), x_axis='time', y_axis='mel', sr=22050)"
   ]
  },
  {
   "cell_type": "code",
   "execution_count": null,
   "metadata": {},
   "outputs": [],
   "source": [
    "# data length"
   ]
  },
  {
   "cell_type": "code",
   "execution_count": null,
   "metadata": {},
   "outputs": [],
   "source": []
  }
 ],
 "metadata": {
  "kernelspec": {
   "display_name": "Python 3",
   "language": "python",
   "name": "python3"
  },
  "language_info": {
   "codemirror_mode": {
    "name": "ipython",
    "version": 3
   },
   "file_extension": ".py",
   "mimetype": "text/x-python",
   "name": "python",
   "nbconvert_exporter": "python",
   "pygments_lexer": "ipython3",
   "version": "3.12.1"
  }
 },
 "nbformat": 4,
 "nbformat_minor": 2
}
