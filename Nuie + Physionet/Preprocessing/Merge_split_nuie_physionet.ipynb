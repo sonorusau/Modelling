{
 "cells": [
  {
   "cell_type": "code",
   "execution_count": null,
   "metadata": {},
   "outputs": [],
   "source": []
  },
  {
   "cell_type": "markdown",
   "metadata": {},
   "source": [
    "## Import libraries"
   ]
  },
  {
   "cell_type": "code",
   "execution_count": 7,
   "metadata": {},
   "outputs": [],
   "source": [
    "import numpy as np\n",
    "from sklearn.model_selection import train_test_split"
   ]
  },
  {
   "cell_type": "markdown",
   "metadata": {},
   "source": [
    "## Load data"
   ]
  },
  {
   "cell_type": "code",
   "execution_count": 3,
   "metadata": {},
   "outputs": [],
   "source": [
    "#get nuie data\n",
    "specs_nuie = np.load(r\"C:\\Users\\rishi\\OneDrive - Monash University\\Documents\\Monash\\Sonorus\\Sonorus - nuie data\\preprocessed data\\specs segmented.npy\")\n",
    "outcome_nuie = np.load(r\"C:\\Users\\rishi\\OneDrive - Monash University\\Documents\\Monash\\Sonorus\\Sonorus - nuie data\\preprocessed data\\outcome segmented.npy\")\n",
    "#get physionet data\n",
    "specs_physionet = np.load(r\"C:\\Users\\rishi\\OneDrive - Monash University\\Documents\\Monash\\Sonorus\\sonorus - physionet data\\Preprocessed data\\Segmented\\specs_segmented.npy\")\n",
    "outcome_physionet = np.load(r\"C:\\Users\\rishi\\OneDrive - Monash University\\Documents\\Monash\\Sonorus\\Sonorus - physionet data\\Preprocessed data\\Segmented\\outcomes_segmented.npy\")"
   ]
  },
  {
   "cell_type": "code",
   "execution_count": 4,
   "metadata": {},
   "outputs": [],
   "source": [
    "#join both datasets\n",
    "#pad zeroes to nuie data \n",
    "specs_nuie_padded = np.zeros((specs_nuie.shape[0],specs_physionet.shape[1],specs_physionet.shape[2]))\n",
    "specs_nuie_padded[:specs_nuie.shape[0],:specs_nuie.shape[1],:specs_nuie.shape[2]] = specs_nuie\n"
   ]
  },
  {
   "cell_type": "code",
   "execution_count": 5,
   "metadata": {},
   "outputs": [],
   "source": [
    "#join both datasets\n",
    "#pad zeroes to nuie data outcome\n",
    "outcome_nuie_padded = np.zeros((outcome_nuie.shape[0],outcome_physionet.shape[1]))\n",
    "outcome_nuie_padded[:outcome_nuie.shape[0],:outcome_nuie.shape[1]] = outcome_nuie\n"
   ]
  },
  {
   "cell_type": "code",
   "execution_count": 6,
   "metadata": {},
   "outputs": [],
   "source": [
    "#concatenate\n",
    "specs = np.concatenate((specs_nuie_padded,specs_physionet),axis=0)\n",
    "outcome = np.concatenate((outcome_nuie_padded,outcome_physionet),axis=0)"
   ]
  },
  {
   "cell_type": "markdown",
   "metadata": {},
   "source": [
    "## Split data"
   ]
  },
  {
   "cell_type": "code",
   "execution_count": 8,
   "metadata": {},
   "outputs": [],
   "source": [
    "#splitting the data into training and testing\n",
    "specs_train, specs_test, outcomes_train, outcomes_test = train_test_split(specs, outcome, test_size=0.2, random_state=42)"
   ]
  },
  {
   "cell_type": "code",
   "execution_count": 10,
   "metadata": {},
   "outputs": [],
   "source": [
    "#np.save(r\"C:\\Users\\rishi\\OneDrive - Monash University\\Documents\\Monash\\Sonorus\\sonorus - nuie + physionet\\data\\nuie_physionet_specs_train.npy\",specs_train)\n",
    "np.save(r\"C:\\Users\\rishi\\OneDrive - Monash University\\Documents\\Monash\\Sonorus\\sonorus - nuie + physionet\\data\\nuie_physionet_specs_test.npy\",specs_test)\n",
    "np.save(r\"C:\\Users\\rishi\\OneDrive - Monash University\\Documents\\Monash\\Sonorus\\sonorus - nuie + physionet\\data\\nuie_physionet_outcomes_train.npy\",outcomes_train)\n",
    "np.save(r\"C:\\Users\\rishi\\OneDrive - Monash University\\Documents\\Monash\\Sonorus\\sonorus - nuie + physionet\\data\\nuie_physionet_outcomes_test.npy\",outcomes_test)"
   ]
  }
 ],
 "metadata": {
  "kernelspec": {
   "display_name": "Python 3",
   "language": "python",
   "name": "python3"
  },
  "language_info": {
   "codemirror_mode": {
    "name": "ipython",
    "version": 3
   },
   "file_extension": ".py",
   "mimetype": "text/x-python",
   "name": "python",
   "nbconvert_exporter": "python",
   "pygments_lexer": "ipython3",
   "version": "3.12.1"
  }
 },
 "nbformat": 4,
 "nbformat_minor": 2
}
