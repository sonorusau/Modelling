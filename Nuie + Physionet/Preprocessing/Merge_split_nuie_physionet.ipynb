{
 "cells": [
  {
   "cell_type": "markdown",
   "metadata": {},
   "source": [
    "## Import libraries"
   ]
  },
  {
   "cell_type": "code",
   "execution_count": 1,
   "metadata": {},
   "outputs": [],
   "source": [
    "import numpy as np\n",
    "from sklearn.model_selection import train_test_split"
   ]
  },
  {
   "cell_type": "markdown",
   "metadata": {},
   "source": [
    "## Load data"
   ]
  },
  {
   "cell_type": "code",
   "execution_count": 3,
   "metadata": {},
   "outputs": [],
   "source": [
    "#get nuie data\n",
    "train_specs_nuie = np.load(r\"C:\\Users\\rishi\\OneDrive - Monash University\\Documents\\Monash\\Sonorus\\Sonorus - nuie data\\preprocessed data\\train_nuie_spec_segmented.npy\")\n",
    "train_outcome_nuie = np.load(r\"C:\\Users\\rishi\\OneDrive - Monash University\\Documents\\Monash\\Sonorus\\Sonorus - nuie data\\preprocessed data\\train_nuie_outcome_segmented.npy\")\n",
    "test_specs_nuie = np.load(r\"C:\\Users\\rishi\\OneDrive - Monash University\\Documents\\Monash\\Sonorus\\Sonorus - nuie data\\preprocessed data\\test_nuie_spec_segmented.npy\")\n",
    "test_outcome_nuie = np.load(r\"C:\\Users\\rishi\\OneDrive - Monash University\\Documents\\Monash\\Sonorus\\Sonorus - nuie data\\preprocessed data\\test_nuie_outcome_segmented.npy\")\n",
    "#get physionet data\n",
    "train_specs_physionet = np.load(r\"C:\\Users\\rishi\\OneDrive - Monash University\\Documents\\Monash\\Sonorus\\sonorus - physionet data\\Preprocessed data\\Segmented\\train_physionet_specs_segmented.npy\")\n",
    "train_outcome_physionet = np.load(r\"C:\\Users\\rishi\\OneDrive - Monash University\\Documents\\Monash\\Sonorus\\Sonorus - physionet data\\Preprocessed data\\Segmented\\train_physionet_outcome_segmented.npy\")\n",
    "test_specs_physionet = np.load(r\"C:\\Users\\rishi\\OneDrive - Monash University\\Documents\\Monash\\Sonorus\\sonorus - physionet data\\Preprocessed data\\Segmented\\test_physionet_specs_segmented.npy\")\n",
    "test_outcome_physionet = np.load(r\"C:\\Users\\rishi\\OneDrive - Monash University\\Documents\\Monash\\Sonorus\\Sonorus - physionet data\\Preprocessed data\\Segmented\\test_physionet_outcome_segmented.npy\")"
   ]
  },
  {
   "cell_type": "code",
   "execution_count": 4,
   "metadata": {},
   "outputs": [],
   "source": [
    "#concatenate train\n",
    "train_specs = np.concatenate((train_specs_nuie,train_specs_physionet),axis=0)\n",
    "train_outcome = np.concatenate((train_outcome_nuie,train_outcome_physionet),axis=0)\n",
    "\n",
    "#concatenate test\n",
    "test_specs = np.concatenate((test_specs_nuie,test_specs_physionet),axis=0)\n",
    "test_outcome = np.concatenate((test_outcome_nuie,test_outcome_physionet),axis=0)"
   ]
  },
  {
   "cell_type": "code",
   "execution_count": 6,
   "metadata": {},
   "outputs": [
    {
     "name": "stdout",
     "output_type": "stream",
     "text": [
      "(18752, 128, 216) (18752, 2) (4838, 128, 216) (4838, 2)\n"
     ]
    }
   ],
   "source": [
    "print(train_specs.shape, train_outcome.shape, test_specs.shape, test_outcome.shape)"
   ]
  },
  {
   "cell_type": "code",
   "execution_count": 7,
   "metadata": {},
   "outputs": [],
   "source": [
    "np.save(r\"C:\\Users\\rishi\\OneDrive - Monash University\\Documents\\Monash\\Sonorus\\sonorus - nuie + physionet\\data\\nuie_physionet_specs_train.npy\",train_specs)\n",
    "np.save(r\"C:\\Users\\rishi\\OneDrive - Monash University\\Documents\\Monash\\Sonorus\\sonorus - nuie + physionet\\data\\nuie_physionet_specs_test.npy\",test_specs)\n",
    "np.save(r\"C:\\Users\\rishi\\OneDrive - Monash University\\Documents\\Monash\\Sonorus\\sonorus - nuie + physionet\\data\\nuie_physionet_outcomes_train.npy\",train_outcome)\n",
    "np.save(r\"C:\\Users\\rishi\\OneDrive - Monash University\\Documents\\Monash\\Sonorus\\sonorus - nuie + physionet\\data\\nuie_physionet_outcomes_test.npy\",test_outcome)"
   ]
  },
  {
   "cell_type": "code",
   "execution_count": null,
   "metadata": {},
   "outputs": [],
   "source": [
    "#old code\n",
    "#join both datasets\n",
    "#pad zeroes to nuie data \n",
    "#specs_nuie_padded = np.zeros((specs_nuie.shape[0],specs_physionet.shape[1],specs_physionet.shape[2]))\n",
    "#specs_nuie_padded[:specs_nuie.shape[0],:specs_nuie.shape[1],:specs_nuie.shape[2]] = specs_nuie\n",
    "\n",
    "#join both datasets\n",
    "#pad zeroes to nuie data outcome\n",
    "#outcome_nuie_padded = np.zeros((outcome_nuie.shape[0],outcome_physionet.shape[1]))\n",
    "#outcome_nuie_padded[:outcome_nuie.shape[0],:outcome_nuie.shape[1]] = outcome_nuie\n",
    "\n"
   ]
  }
 ],
 "metadata": {
  "kernelspec": {
   "display_name": "Python 3",
   "language": "python",
   "name": "python3"
  },
  "language_info": {
   "codemirror_mode": {
    "name": "ipython",
    "version": 3
   },
   "file_extension": ".py",
   "mimetype": "text/x-python",
   "name": "python",
   "nbconvert_exporter": "python",
   "pygments_lexer": "ipython3",
   "version": "3.12.1"
  }
 },
 "nbformat": 4,
 "nbformat_minor": 2
}
