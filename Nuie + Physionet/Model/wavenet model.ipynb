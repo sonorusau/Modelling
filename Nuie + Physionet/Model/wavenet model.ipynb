{
 "cells": [
  {
   "cell_type": "markdown",
   "metadata": {},
   "source": [
    "## Import libraries"
   ]
  },
  {
   "cell_type": "code",
   "execution_count": 1,
   "metadata": {},
   "outputs": [],
   "source": [
    "import numpy as np\n",
    "import keras\n",
    "from keras.models import Sequential \n",
    "from keras.layers import Conv2D, MaxPooling2D, Flatten, Dense, Dropout\n",
    "\n",
    "from sklearn.model_selection import train_test_split \n",
    "import tensorflow as tf\n",
    "from sklearn.metrics import confusion_matrix, ConfusionMatrixDisplay\n"
   ]
  },
  {
   "cell_type": "code",
   "execution_count": 19,
   "metadata": {},
   "outputs": [],
   "source": [
    "#import functions\n",
    "import sys\n",
    "\n",
    "# Add the directory containing your file to Python's search path\n",
    "sys.path.append(r'C:\\Users\\rishi\\OneDrive - Monash University\\Documents\\Monash\\Sonorus\\sonorus all')\n",
    "\n",
    "# Now you can import the function from the file\n",
    "from Model_evaluation import model_evaluation\n",
    "from wavenet import wavenet_train, prep_data"
   ]
  },
  {
   "cell_type": "markdown",
   "metadata": {},
   "source": [
    "## Load data"
   ]
  },
  {
   "cell_type": "code",
   "execution_count": 4,
   "metadata": {},
   "outputs": [],
   "source": [
    "#get nuie data\n",
    "specs_nuie = np.load(r\"C:\\Users\\rishi\\OneDrive - Monash University\\Documents\\Monash\\Sonorus\\Sonorus - nuie data\\preprocessed data\\specs segmented.npy\")\n",
    "outcome_nuie = np.load(r\"C:\\Users\\rishi\\OneDrive - Monash University\\Documents\\Monash\\Sonorus\\Sonorus - nuie data\\preprocessed data\\outcome segmented.npy\")\n",
    "#get physionet data\n",
    "specs_physionet = np.load(r\"C:\\Users\\rishi\\OneDrive - Monash University\\Documents\\Monash\\Sonorus\\sonorus - physionet data\\Preprocessed data\\Segmented\\specs_segmented.npy\")\n",
    "outcome_physionet = np.load(r\"C:\\Users\\rishi\\OneDrive - Monash University\\Documents\\Monash\\Sonorus\\Sonorus - physionet data\\Preprocessed data\\Segmented\\outcomes_segmented.npy\")"
   ]
  },
  {
   "cell_type": "code",
   "execution_count": 5,
   "metadata": {},
   "outputs": [],
   "source": [
    "#join both datasets\n",
    "#pad zeroes to nuie data \n",
    "specs_nuie_padded = np.zeros((specs_nuie.shape[0],specs_physionet.shape[1],specs_physionet.shape[2]))\n",
    "specs_nuie_padded[:specs_nuie.shape[0],:specs_nuie.shape[1],:specs_nuie.shape[2]] = specs_nuie\n"
   ]
  },
  {
   "cell_type": "code",
   "execution_count": 22,
   "metadata": {},
   "outputs": [
    {
     "data": {
      "text/plain": [
       "(7740, 128, 40)"
      ]
     },
     "execution_count": 22,
     "metadata": {},
     "output_type": "execute_result"
    }
   ],
   "source": [
    "outcome_nuie.shape"
   ]
  },
  {
   "cell_type": "code",
   "execution_count": 6,
   "metadata": {},
   "outputs": [],
   "source": [
    "#join both datasets\n",
    "#pad zeroes to nuie data outcome\n",
    "outcome_nuie_padded = np.zeros((outcome_nuie.shape[0],outcome_physionet.shape[1]))\n",
    "outcome_nuie_padded[:outcome_nuie.shape[0],:outcome_nuie.shape[1]] = outcome_nuie\n"
   ]
  },
  {
   "cell_type": "code",
   "execution_count": 7,
   "metadata": {},
   "outputs": [],
   "source": [
    "#concatenate\n",
    "specs = np.concatenate((specs_nuie_padded,specs_physionet),axis=0)\n",
    "outcome = np.concatenate((outcome_nuie_padded,outcome_physionet),axis=0)"
   ]
  },
  {
   "cell_type": "markdown",
   "metadata": {},
   "source": [
    "## Split data"
   ]
  },
  {
   "cell_type": "code",
   "execution_count": 8,
   "metadata": {},
   "outputs": [],
   "source": [
    "#splitting the data into training and testing\n",
    "specs_train, specs_test, outcomes_train, outcomes_test = train_test_split(specs, outcome, test_size=0.2, random_state=42)"
   ]
  },
  {
   "cell_type": "markdown",
   "metadata": {},
   "source": [
    "## Model"
   ]
  },
  {
   "cell_type": "code",
   "execution_count": 9,
   "metadata": {},
   "outputs": [],
   "source": [
    "specs_train, specs_test = prep_data(specs_train, specs_test)"
   ]
  },
  {
   "cell_type": "code",
   "execution_count": 10,
   "metadata": {},
   "outputs": [
    {
     "name": "stderr",
     "output_type": "stream",
     "text": [
      "c:\\Users\\rishi\\AppData\\Local\\Programs\\Python\\Python312\\Lib\\site-packages\\keras\\src\\layers\\layer.py:359: UserWarning: `build()` was called on layer 'wave_net_model', however the layer does not have a `build()` method implemented and it looks like it has unbuilt state. This will cause the layer to be marked as built, despite not being actually built, which may cause failures down the line. Make sure to implement a proper `build()` method.\n",
      "  warnings.warn(\n"
     ]
    },
    {
     "name": "stdout",
     "output_type": "stream",
     "text": [
      "Epoch 1/3\n",
      "\u001b[1m6291/6291\u001b[0m \u001b[32m━━━━━━━━━━━━━━━━━━━━\u001b[0m\u001b[37m\u001b[0m \u001b[1m5994s\u001b[0m 952ms/step - accuracy: 0.6523 - loss: 0.8413 - val_accuracy: 0.6547 - val_loss: 0.6384\n",
      "Epoch 2/3\n",
      "\u001b[1m6291/6291\u001b[0m \u001b[32m━━━━━━━━━━━━━━━━━━━━\u001b[0m\u001b[37m\u001b[0m \u001b[1m5872s\u001b[0m 933ms/step - accuracy: 0.6789 - loss: 0.6008 - val_accuracy: 0.6666 - val_loss: 0.6118\n",
      "Epoch 3/3\n",
      "\u001b[1m6291/6291\u001b[0m \u001b[32m━━━━━━━━━━━━━━━━━━━━\u001b[0m\u001b[37m\u001b[0m \u001b[1m5063s\u001b[0m 805ms/step - accuracy: 0.7275 - loss: 0.5449 - val_accuracy: 0.6662 - val_loss: 0.6393\n"
     ]
    }
   ],
   "source": [
    "#model\n",
    "wavenet = wavenet_train(specs_train, specs_test, outcomes_train, outcomes_test)"
   ]
  },
  {
   "cell_type": "code",
   "execution_count": 11,
   "metadata": {},
   "outputs": [
    {
     "name": "stdout",
     "output_type": "stream",
     "text": [
      "Train set:\n",
      "Train loss: 0.4679756164550781\n",
      "Train accuracy: 0.7897413969039917\n",
      "\u001b[1m590/590\u001b[0m \u001b[32m━━━━━━━━━━━━━━━━━━━━\u001b[0m\u001b[37m\u001b[0m \u001b[1m1304s\u001b[0m 2s/step\n",
      "tn: 11316 fp: 429 fn: 3539 tp: 3588\n",
      "Sensitivity: 0.5034376315420233 | Specificity: 0.9634738186462325\n",
      "\n",
      "\n",
      "Test set:\n",
      "Test loss: 0.640121340751648\n",
      "Test accuracy: 0.6661720871925354\n",
      "\u001b[1m148/148\u001b[0m \u001b[32m━━━━━━━━━━━━━━━━━━━━\u001b[0m\u001b[37m\u001b[0m \u001b[1m31115s\u001b[0m 212s/step\n",
      "tn: 2573 fp: 396 fn: 1179 tp: 570\n",
      "Sensitivity: 0.3259005145797599 | Specificity: 0.8666217581677332\n"
     ]
    }
   ],
   "source": [
    "model_evaluation(wavenet, specs_train, specs_test, outcomes_train, outcomes_test)"
   ]
  },
  {
   "cell_type": "code",
   "execution_count": 28,
   "metadata": {},
   "outputs": [
    {
     "name": "stdout",
     "output_type": "stream",
     "text": [
      "Model Evaluation:\n",
      "\u001b[1m590/590\u001b[0m \u001b[32m━━━━━━━━━━━━━━━━━━━━\u001b[0m\u001b[37m\u001b[0m \u001b[1m1633s\u001b[0m 3s/step\n",
      "ddd\n",
      "hi 2\n",
      "Train set:\n",
      "Train Accuracy: 0.7986434930055109 | Sensitivity: 0.6243861372246386 | Specificity: 0.9043848446147297\n",
      "\n",
      "\n",
      "\u001b[1m148/148\u001b[0m \u001b[32m━━━━━━━━━━━━━━━━━━━━\u001b[0m\u001b[37m\u001b[0m \u001b[1m337s\u001b[0m 2s/step\n",
      "Test set:\n",
      "Accuracy:  0.6615091140313692 | Sensitivity: 0.4665523156089194 | Specificity: 0.7763556753115527\n"
     ]
    },
    {
     "data": {
      "image/png": "[encoded data removed]",
      "text/plain": [
       "<Figure size 640x480 with 2 Axes>"
      ]
     },
     "metadata": {},
     "output_type": "display_data"
    },
    {
     "data": {
      "image/png": "[encoded data removed]",
      "text/plain": [
       "<Figure size 640x480 with 2 Axes>"
      ]
     },
     "metadata": {},
     "output_type": "display_data"
    }
   ],
   "source": [
    "#from Model_evaluation import model_evaluation\n",
    "model_evaluation(wavenet, specs_train, specs_test, outcomes_train, outcomes_test, threshold=0.60, evaluate=False)"
   ]
  },
  {
   "cell_type": "code",
   "execution_count": null,
   "metadata": {},
   "outputs": [],
   "source": []
  },
  {
   "cell_type": "markdown",
   "metadata": {},
   "source": []
  }
 ],
 "metadata": {
  "kernelspec": {
   "display_name": "Python 3",
   "language": "python",
   "name": "python3"
  },
  "language_info": {
   "codemirror_mode": {
    "name": "ipython",
    "version": 3
   },
   "file_extension": ".py",
   "mimetype": "text/x-python",
   "name": "python",
   "nbconvert_exporter": "python",
   "pygments_lexer": "ipython3",
   "version": "3.12.1"
  }
 },
 "nbformat": 4,
 "nbformat_minor": 2
}
